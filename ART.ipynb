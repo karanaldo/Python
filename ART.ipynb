{
 "cells": [
  {
   "cell_type": "markdown",
   "id": "42ae1092",
   "metadata": {},
   "source": [
    "## ART"
   ]
  },
  {
   "cell_type": "code",
   "execution_count": 1,
   "id": "0572cd97",
   "metadata": {},
   "outputs": [],
   "source": [
    "import numpy as np"
   ]
  },
  {
   "cell_type": "code",
   "execution_count": 65,
   "id": "29708abd",
   "metadata": {},
   "outputs": [],
   "source": [
    "X = np.array([[0, 0, 0, 1], [0, 1, 0, 1], [0, 0, 1, 1], [1, 0, 0, 0]])"
   ]
  },
  {
   "cell_type": "code",
   "execution_count": 66,
   "id": "36b3dc87",
   "metadata": {},
   "outputs": [
    {
     "data": {
      "text/plain": [
       "array([[0, 0, 0, 1],\n",
       "       [0, 1, 0, 1],\n",
       "       [0, 0, 1, 1],\n",
       "       [1, 0, 0, 0]])"
      ]
     },
     "execution_count": 66,
     "metadata": {},
     "output_type": "execute_result"
    }
   ],
   "source": [
    "X"
   ]
  },
  {
   "cell_type": "code",
   "execution_count": 67,
   "id": "7797d4a5",
   "metadata": {},
   "outputs": [],
   "source": [
    "rho = 0.4\n",
    "alpha = 2\n",
    "n = 4\n",
    "m = 3"
   ]
  },
  {
   "cell_type": "code",
   "execution_count": 68,
   "id": "a108be51",
   "metadata": {},
   "outputs": [],
   "source": [
    "bottom = 1/(1+n)"
   ]
  },
  {
   "cell_type": "code",
   "execution_count": 69,
   "id": "ab1b2010",
   "metadata": {},
   "outputs": [
    {
     "data": {
      "text/plain": [
       "0.2"
      ]
     },
     "execution_count": 69,
     "metadata": {},
     "output_type": "execute_result"
    }
   ],
   "source": [
    "bottom"
   ]
  },
  {
   "cell_type": "code",
   "execution_count": 70,
   "id": "010774b3",
   "metadata": {},
   "outputs": [],
   "source": [
    "def weights(n, m, value):\n",
    "    weight = []\n",
    "    for i in range(n):\n",
    "        temp = []\n",
    "        for j in range(m):\n",
    "            temp.append(value)\n",
    "        weight.append(temp)\n",
    "    return weight"
   ]
  },
  {
   "cell_type": "code",
   "execution_count": 71,
   "id": "f878bafa",
   "metadata": {},
   "outputs": [],
   "source": [
    "bij = np.array(weights(n, m, bottom))"
   ]
  },
  {
   "cell_type": "code",
   "execution_count": 72,
   "id": "096091a7",
   "metadata": {},
   "outputs": [
    {
     "data": {
      "text/plain": [
       "array([[0.2, 0.2, 0.2],\n",
       "       [0.2, 0.2, 0.2],\n",
       "       [0.2, 0.2, 0.2],\n",
       "       [0.2, 0.2, 0.2]])"
      ]
     },
     "execution_count": 72,
     "metadata": {},
     "output_type": "execute_result"
    }
   ],
   "source": [
    "bij"
   ]
  },
  {
   "cell_type": "code",
   "execution_count": 73,
   "id": "1968625c",
   "metadata": {},
   "outputs": [],
   "source": [
    "tji = np.array(weights(m, n, 1))"
   ]
  },
  {
   "cell_type": "code",
   "execution_count": 74,
   "id": "57971ca6",
   "metadata": {},
   "outputs": [
    {
     "data": {
      "text/plain": [
       "array([[1, 1, 1, 1],\n",
       "       [1, 1, 1, 1],\n",
       "       [1, 1, 1, 1]])"
      ]
     },
     "execution_count": 74,
     "metadata": {},
     "output_type": "execute_result"
    }
   ],
   "source": [
    "tji"
   ]
  },
  {
   "cell_type": "code",
   "execution_count": 75,
   "id": "0208d849",
   "metadata": {},
   "outputs": [],
   "source": [
    "s = X[0]"
   ]
  },
  {
   "cell_type": "code",
   "execution_count": 76,
   "id": "825fc51d",
   "metadata": {},
   "outputs": [],
   "source": [
    "def norm(s):\n",
    "    norm_s = 0\n",
    "    for i in s:\n",
    "        norm_s+=i\n",
    "    return norm_s"
   ]
  },
  {
   "cell_type": "code",
   "execution_count": 77,
   "id": "e0c91264",
   "metadata": {},
   "outputs": [],
   "source": [
    "norm_s = norm(s)"
   ]
  },
  {
   "cell_type": "code",
   "execution_count": 78,
   "id": "190ac3a1",
   "metadata": {},
   "outputs": [
    {
     "data": {
      "text/plain": [
       "1"
      ]
     },
     "execution_count": 78,
     "metadata": {},
     "output_type": "execute_result"
    }
   ],
   "source": [
    "norm_s"
   ]
  },
  {
   "cell_type": "code",
   "execution_count": 79,
   "id": "2566782e",
   "metadata": {},
   "outputs": [],
   "source": [
    "norm_x = norm(X[0])"
   ]
  },
  {
   "cell_type": "code",
   "execution_count": 80,
   "id": "f762c086",
   "metadata": {},
   "outputs": [
    {
     "data": {
      "text/plain": [
       "1"
      ]
     },
     "execution_count": 80,
     "metadata": {},
     "output_type": "execute_result"
    }
   ],
   "source": [
    "norm_x"
   ]
  },
  {
   "cell_type": "code",
   "execution_count": 81,
   "id": "7637b2bc",
   "metadata": {},
   "outputs": [],
   "source": [
    "def aggregation(n, bij, x):\n",
    "    for i in range(n):\n",
    "        yi = bij[i]*x[i]\n",
    "    return yi"
   ]
  },
  {
   "cell_type": "code",
   "execution_count": 82,
   "id": "d5d9449b",
   "metadata": {},
   "outputs": [],
   "source": [
    "bij_T = bij.T"
   ]
  },
  {
   "cell_type": "code",
   "execution_count": 83,
   "id": "be74579d",
   "metadata": {},
   "outputs": [
    {
     "name": "stdout",
     "output_type": "stream",
     "text": [
      "0.2\n"
     ]
    }
   ],
   "source": [
    "print(aggregation(n, bij_T[0], X[0]))"
   ]
  },
  {
   "cell_type": "code",
   "execution_count": 84,
   "id": "83e6e4b6",
   "metadata": {},
   "outputs": [],
   "source": [
    "Y = []\n",
    "for i in range(m):\n",
    "    Y.append(aggregation(n, bij_T[i], X[0]))"
   ]
  },
  {
   "cell_type": "code",
   "execution_count": 85,
   "id": "6dfae9b6",
   "metadata": {},
   "outputs": [
    {
     "name": "stdout",
     "output_type": "stream",
     "text": [
      "[0.2, 0.2, 0.2]\n"
     ]
    }
   ],
   "source": [
    "print (Y)"
   ]
  },
  {
   "cell_type": "code",
   "execution_count": 86,
   "id": "dfd3d109",
   "metadata": {},
   "outputs": [],
   "source": [
    "min_y = Y[0]\n",
    "j = 0\n",
    "for i in range(len(Y)):\n",
    "    if min_y>Y[i]:\n",
    "        min_y = Y[i]\n",
    "        value = i"
   ]
  },
  {
   "cell_type": "code",
   "execution_count": null,
   "id": "b5f2239d",
   "metadata": {},
   "outputs": [],
   "source": []
  },
  {
   "cell_type": "code",
   "execution_count": 87,
   "id": "b697b599",
   "metadata": {},
   "outputs": [
    {
     "data": {
      "text/plain": [
       "0.2"
      ]
     },
     "execution_count": 87,
     "metadata": {},
     "output_type": "execute_result"
    }
   ],
   "source": [
    "min_y"
   ]
  },
  {
   "cell_type": "code",
   "execution_count": 88,
   "id": "7699660b",
   "metadata": {},
   "outputs": [
    {
     "data": {
      "text/plain": [
       "0"
      ]
     },
     "execution_count": 88,
     "metadata": {},
     "output_type": "execute_result"
    }
   ],
   "source": [
    "j"
   ]
  },
  {
   "cell_type": "code",
   "execution_count": 89,
   "id": "ddde8721",
   "metadata": {},
   "outputs": [],
   "source": [
    "xi = s*tji[j][0]"
   ]
  },
  {
   "cell_type": "code",
   "execution_count": 90,
   "id": "ac278fe1",
   "metadata": {},
   "outputs": [
    {
     "data": {
      "text/plain": [
       "array([0, 0, 0, 1])"
      ]
     },
     "execution_count": 90,
     "metadata": {},
     "output_type": "execute_result"
    }
   ],
   "source": [
    "xi"
   ]
  },
  {
   "cell_type": "code",
   "execution_count": 91,
   "id": "405ae515",
   "metadata": {},
   "outputs": [],
   "source": [
    "norm_xi = norm(xi)"
   ]
  },
  {
   "cell_type": "code",
   "execution_count": 92,
   "id": "2c44fae9",
   "metadata": {},
   "outputs": [
    {
     "data": {
      "text/plain": [
       "1"
      ]
     },
     "execution_count": 92,
     "metadata": {},
     "output_type": "execute_result"
    }
   ],
   "source": [
    "norm_xi"
   ]
  },
  {
   "cell_type": "code",
   "execution_count": 93,
   "id": "b5367fcb",
   "metadata": {},
   "outputs": [],
   "source": [
    "value = norm_xi/norm_s"
   ]
  },
  {
   "cell_type": "code",
   "execution_count": 94,
   "id": "eba310df",
   "metadata": {},
   "outputs": [
    {
     "data": {
      "text/plain": [
       "1.0"
      ]
     },
     "execution_count": 94,
     "metadata": {},
     "output_type": "execute_result"
    }
   ],
   "source": [
    "value"
   ]
  },
  {
   "cell_type": "code",
   "execution_count": 95,
   "id": "fb4f4936",
   "metadata": {},
   "outputs": [],
   "source": [
    "if value>rho:\n",
    "    bij_new = (alpha*xi)/((alpha - 1) +(norm_xi))"
   ]
  },
  {
   "cell_type": "code",
   "execution_count": 96,
   "id": "f0d4b0b3",
   "metadata": {},
   "outputs": [
    {
     "data": {
      "text/plain": [
       "array([0., 0., 0., 1.])"
      ]
     },
     "execution_count": 96,
     "metadata": {},
     "output_type": "execute_result"
    }
   ],
   "source": [
    "bij_new"
   ]
  },
  {
   "cell_type": "code",
   "execution_count": 97,
   "id": "7e588bd3",
   "metadata": {},
   "outputs": [],
   "source": [
    "bij_T[0] = bij_new"
   ]
  },
  {
   "cell_type": "code",
   "execution_count": 98,
   "id": "57773bed",
   "metadata": {},
   "outputs": [
    {
     "data": {
      "text/plain": [
       "array([[0. , 0. , 0. , 1. ],\n",
       "       [0.2, 0.2, 0.2, 0.2],\n",
       "       [0.2, 0.2, 0.2, 0.2]])"
      ]
     },
     "execution_count": 98,
     "metadata": {},
     "output_type": "execute_result"
    }
   ],
   "source": [
    "bij_T"
   ]
  },
  {
   "cell_type": "code",
   "execution_count": 99,
   "id": "9fb1e446",
   "metadata": {},
   "outputs": [],
   "source": [
    "tji[0] = bij_new"
   ]
  },
  {
   "cell_type": "code",
   "execution_count": 100,
   "id": "32d680c1",
   "metadata": {},
   "outputs": [
    {
     "data": {
      "text/plain": [
       "array([[0, 0, 0, 1],\n",
       "       [1, 1, 1, 1],\n",
       "       [1, 1, 1, 1]])"
      ]
     },
     "execution_count": 100,
     "metadata": {},
     "output_type": "execute_result"
    }
   ],
   "source": [
    "tji"
   ]
  },
  {
   "cell_type": "code",
   "execution_count": 101,
   "id": "b95713cc",
   "metadata": {},
   "outputs": [],
   "source": [
    "# tji cha first row update zala bij sarkha "
   ]
  },
  {
   "cell_type": "code",
   "execution_count": 102,
   "id": "446104a1",
   "metadata": {},
   "outputs": [],
   "source": []
  }
 ],
 "metadata": {
  "kernelspec": {
   "display_name": "Python 3 (ipykernel)",
   "language": "python",
   "name": "python3"
  },
  "language_info": {
   "codemirror_mode": {
    "name": "ipython",
    "version": 3
   },
   "file_extension": ".py",
   "mimetype": "text/x-python",
   "name": "python",
   "nbconvert_exporter": "python",
   "pygments_lexer": "ipython3",
   "version": "3.11.4"
  }
 },
 "nbformat": 4,
 "nbformat_minor": 5
}
