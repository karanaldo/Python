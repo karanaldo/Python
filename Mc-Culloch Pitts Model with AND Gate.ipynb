{
 "cells": [
  {
   "cell_type": "markdown",
   "id": "1dd718c3",
   "metadata": {},
   "source": [
    "# Mc-culloch Pitts Model with AND Gate\n",
    "\n",
    "Some Theory - https://towardsdatascience.com/mcculloch-pitts-model-5fdf65ac5dd1"
   ]
  },
  {
   "cell_type": "code",
   "execution_count": 35,
   "id": "5cdb7c6e",
   "metadata": {},
   "outputs": [],
   "source": [
    "import numpy as np"
   ]
  },
  {
   "cell_type": "code",
   "execution_count": 39,
   "id": "59109033",
   "metadata": {},
   "outputs": [],
   "source": [
    "#Function for the calculation of the model (AND Gate)\n",
    "def calc(x1, x2, w, b):\n",
    "    out = []\n",
    "    for i in range(len(x1)):\n",
    "        weighted_sum = (x1[i]*w) + (x2[i]*w) + b\n",
    "        if weighted_sum <= 2:\n",
    "            out.append(0)\n",
    "        else:\n",
    "            out.append(1)\n",
    "    return out\n"
   ]
  },
  {
   "cell_type": "code",
   "execution_count": 40,
   "id": "29da3706",
   "metadata": {},
   "outputs": [
    {
     "data": {
      "text/plain": [
       "[0, 0, 0, 1]"
      ]
     },
     "execution_count": 40,
     "metadata": {},
     "output_type": "execute_result"
    }
   ],
   "source": [
    "#Inputs and calling the function\n",
    "\n",
    "x1=[0,0,1,1]\n",
    "x2=[0,1,0,1]\n",
    "w=1\n",
    "b=1\n",
    "\n",
    "calc(x1,x2,w,b)"
   ]
  },
  {
   "cell_type": "code",
   "execution_count": 41,
   "id": "9365dbef",
   "metadata": {},
   "outputs": [],
   "source": [
    "#Function for the calculation of the model (ANDNOT/ NAND Gate)\n",
    "\n",
    "def andnotcalc (x1, x2, w, b):\n",
    "    output = []\n",
    "    for i in range(len(x1)):\n",
    "        weighted_sum1 = (x1[i]*w)+ (x2[i]*w)+ b\n",
    "        if weighted_sum1 <= 2:\n",
    "            output.append(1) #The only change is here\n",
    "            \n",
    "        else:\n",
    "            output.append(0)\n",
    "            \n",
    "    return output"
   ]
  },
  {
   "cell_type": "code",
   "execution_count": 42,
   "id": "6e3a1e0b",
   "metadata": {},
   "outputs": [
    {
     "data": {
      "text/plain": [
       "[1, 1, 1, 0]"
      ]
     },
     "execution_count": 42,
     "metadata": {},
     "output_type": "execute_result"
    }
   ],
   "source": [
    "#Inputs and calling the function\n",
    "\n",
    "x1=[0,0,1,1]\n",
    "x2=[0,1,0,1]\n",
    "w=1\n",
    "b=1\n",
    "\n",
    "andnotcalc(x1,x2,w,b)"
   ]
  }
 ],
 "metadata": {
  "kernelspec": {
   "display_name": "Python 3 (ipykernel)",
   "language": "python",
   "name": "python3"
  },
  "language_info": {
   "codemirror_mode": {
    "name": "ipython",
    "version": 3
   },
   "file_extension": ".py",
   "mimetype": "text/x-python",
   "name": "python",
   "nbconvert_exporter": "python",
   "pygments_lexer": "ipython3",
   "version": "3.11.4"
  }
 },
 "nbformat": 4,
 "nbformat_minor": 5
}
