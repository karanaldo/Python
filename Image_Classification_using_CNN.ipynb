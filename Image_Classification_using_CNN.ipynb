{
 "cells": [
  {
   "cell_type": "code",
   "execution_count": 1,
   "metadata": {
    "id": "RQWZWchPxYWN"
   },
   "outputs": [],
   "source": [
    "import tensorflow as tf\n",
    "from tensorflow.keras import datasets, layers, models\n",
    "import matplotlib.pyplot as plt\n",
    "import numpy as np"
   ]
  },
  {
   "cell_type": "code",
   "execution_count": 2,
   "metadata": {
    "colab": {
     "base_uri": "https://localhost:8080/"
    },
    "id": "ju5e5RXbx7rV",
    "outputId": "55cd7b14-c39e-496b-ffda-6805d2a2ee72"
   },
   "outputs": [
    {
     "name": "stdout",
     "output_type": "stream",
     "text": [
      "Downloading data from https://www.cs.toronto.edu/~kriz/cifar-10-python.tar.gz\n",
      "170498071/170498071 [==============================] - 5s 0us/step\n"
     ]
    }
   ],
   "source": [
    "(x_train, y_train),(x_test, y_test) = datasets.cifar10.load_data()"
   ]
  },
  {
   "cell_type": "code",
   "execution_count": 3,
   "metadata": {
    "colab": {
     "base_uri": "https://localhost:8080/"
    },
    "id": "7EsUdIp0yQ0E",
    "outputId": "785904d2-4518-45ff-877d-0c0f150ea249"
   },
   "outputs": [
    {
     "data": {
      "text/plain": [
       "(50000, 32, 32, 3)"
      ]
     },
     "execution_count": 3,
     "metadata": {},
     "output_type": "execute_result"
    }
   ],
   "source": [
    "x_train.shape\n",
    "\n",
    "#50000 - images \n",
    "# 32 * 32 pixels\n",
    "#3 for RGB"
   ]
  },
  {
   "cell_type": "code",
   "execution_count": 4,
   "metadata": {
    "colab": {
     "base_uri": "https://localhost:8080/"
    },
    "id": "A2-20BguyU6T",
    "outputId": "7752320e-f636-43b0-f440-bdbc5e36a2de"
   },
   "outputs": [
    {
     "data": {
      "text/plain": [
       "(50000, 1)"
      ]
     },
     "execution_count": 4,
     "metadata": {},
     "output_type": "execute_result"
    }
   ],
   "source": [
    "y_train.shape"
   ]
  },
  {
   "cell_type": "code",
   "execution_count": 6,
   "metadata": {
    "colab": {
     "base_uri": "https://localhost:8080/"
    },
    "id": "_QOeQJhRyYGL",
    "outputId": "f6f5fdc6-0b82-49aa-cb72-256d6543515f"
   },
   "outputs": [
    {
     "data": {
      "text/plain": [
       "(10000, 32, 32, 3)"
      ]
     },
     "execution_count": 6,
     "metadata": {},
     "output_type": "execute_result"
    }
   ],
   "source": [
    "x_test.shape"
   ]
  },
  {
   "cell_type": "code",
   "execution_count": 7,
   "metadata": {
    "colab": {
     "base_uri": "https://localhost:8080/"
    },
    "id": "uAWyGGIQyfGY",
    "outputId": "5cda0c85-7c46-4e2b-d046-d0ecdeda2d75"
   },
   "outputs": [
    {
     "data": {
      "text/plain": [
       "(10000, 1)"
      ]
     },
     "execution_count": 7,
     "metadata": {},
     "output_type": "execute_result"
    }
   ],
   "source": [
    "y_test.shape"
   ]
  },
  {
   "cell_type": "code",
   "execution_count": 11,
   "metadata": {
    "colab": {
     "base_uri": "https://localhost:8080/",
     "height": 448
    },
    "id": "DpkBE4QKyrVq",
    "outputId": "94283cd2-6839-44ab-b01b-c23ac77949ce"
   },
   "outputs": [
    {
     "data": {
      "text/plain": [
       "<matplotlib.image.AxesImage at 0x7f63bc848370>"
      ]
     },
     "execution_count": 11,
     "metadata": {},
     "output_type": "execute_result"
    },
    {
     "data": {
      "image/png": "[encoded data removed]",
      "text/plain": [
       "<Figure size 640x480 with 1 Axes>"
      ]
     },
     "metadata": {},
     "output_type": "display_data"
    }
   ],
   "source": [
    "plt.imshow(x_train[102])\n",
    "\n",
    "#Its is a truck"
   ]
  },
  {
   "cell_type": "code",
   "execution_count": 12,
   "metadata": {
    "colab": {
     "base_uri": "https://localhost:8080/"
    },
    "id": "Zwbcffa8z-DP",
    "outputId": "239c33a1-6282-4937-a7ac-e5345bf8232a"
   },
   "outputs": [
    {
     "data": {
      "text/plain": [
       "array([[6],\n",
       "       [9],\n",
       "       [9],\n",
       "       [4],\n",
       "       [1]], dtype=uint8)"
      ]
     },
     "execution_count": 12,
     "metadata": {},
     "output_type": "execute_result"
    }
   ],
   "source": [
    "y_train[:5]"
   ]
  },
  {
   "cell_type": "code",
   "execution_count": 13,
   "metadata": {
    "id": "FLkdHLhW0Biu"
   },
   "outputs": [],
   "source": [
    "y_train = y_train.reshape(-1,)"
   ]
  },
  {
   "cell_type": "code",
   "execution_count": 14,
   "metadata": {
    "colab": {
     "base_uri": "https://localhost:8080/"
    },
    "id": "s2xSP5o_0KPg",
    "outputId": "22d9fbcc-5c4e-4da2-8999-9e371e1efee1"
   },
   "outputs": [
    {
     "data": {
      "text/plain": [
       "array([6, 9, 9, 4, 1], dtype=uint8)"
      ]
     },
     "execution_count": 14,
     "metadata": {},
     "output_type": "execute_result"
    }
   ],
   "source": [
    "y_train[:5]"
   ]
  },
  {
   "cell_type": "code",
   "execution_count": 15,
   "metadata": {
    "id": "PnfEPUHr0Nxg"
   },
   "outputs": [],
   "source": [
    "classes = [\"airplane\",\"automobile\",\"bird\",\"cat\",\"deer\",\"dog\",\"frog\",\"horse\",\"ship\",\"truck\"]"
   ]
  },
  {
   "cell_type": "code",
   "execution_count": 21,
   "metadata": {
    "id": "ihENRdpW05eU"
   },
   "outputs": [],
   "source": [
    "def example (x, y, index):\n",
    "  plt.imshow(x[index])\n",
    "  plt.xlabel(classes[y[index]])"
   ]
  },
  {
   "cell_type": "code",
   "execution_count": 22,
   "metadata": {
    "colab": {
     "base_uri": "https://localhost:8080/",
     "height": 449
    },
    "id": "sar5Kd4s1Ydv",
    "outputId": "885401bb-626c-4ac9-994f-0be5771856ff"
   },
   "outputs": [
    {
     "data": {
      "image/png": "[encoded data removed]",
      "text/plain": [
       "<Figure size 640x480 with 1 Axes>"
      ]
     },
     "metadata": {},
     "output_type": "display_data"
    }
   ],
   "source": [
    "example(x_train, y_train, 9821)"
   ]
  },
  {
   "cell_type": "code",
   "execution_count": 23,
   "metadata": {
    "id": "-K8ScfJ_1pR8"
   },
   "outputs": [],
   "source": [
    "#Normalizing the data by dividing it by 255 as it will give us the values between 0 and 1\n",
    "\n",
    "x_train = x_train / 255\n",
    "x_test = x_test / 255"
   ]
  },
  {
   "cell_type": "code",
   "execution_count": 29,
   "metadata": {
    "colab": {
     "base_uri": "https://localhost:8080/"
    },
    "id": "0aRA-x7l2MYS",
    "outputId": "340cc518-fd95-4094-c1dd-8f9a1a001d2e"
   },
   "outputs": [
    {
     "name": "stdout",
     "output_type": "stream",
     "text": [
      "Epoch 1/100\n",
      "1563/1563 [==============================] - 7s 4ms/step - loss: 1.8129 - accuracy: 0.3534\n",
      "Epoch 2/100\n",
      "1563/1563 [==============================] - 7s 4ms/step - loss: 1.6249 - accuracy: 0.4253\n",
      "Epoch 3/100\n",
      "1563/1563 [==============================] - 6s 4ms/step - loss: 1.5399 - accuracy: 0.4557\n",
      "Epoch 4/100\n",
      "1563/1563 [==============================] - 7s 4ms/step - loss: 1.4814 - accuracy: 0.4788\n",
      "Epoch 5/100\n",
      "1563/1563 [==============================] - 6s 4ms/step - loss: 1.4328 - accuracy: 0.4948\n",
      "Epoch 6/100\n",
      "1563/1563 [==============================] - 7s 4ms/step - loss: 1.3889 - accuracy: 0.5098\n",
      "Epoch 7/100\n",
      "1563/1563 [==============================] - 6s 4ms/step - loss: 1.3534 - accuracy: 0.5261\n",
      "Epoch 8/100\n",
      "1563/1563 [==============================] - 7s 4ms/step - loss: 1.3147 - accuracy: 0.5374\n",
      "Epoch 9/100\n",
      "1563/1563 [==============================] - 6s 4ms/step - loss: 1.2862 - accuracy: 0.5481\n",
      "Epoch 10/100\n",
      "1563/1563 [==============================] - 7s 4ms/step - loss: 1.2548 - accuracy: 0.5605\n",
      "Epoch 11/100\n",
      "1563/1563 [==============================] - 6s 4ms/step - loss: 1.2264 - accuracy: 0.5703\n",
      "Epoch 12/100\n",
      "1563/1563 [==============================] - 7s 4ms/step - loss: 1.1948 - accuracy: 0.5821\n",
      "Epoch 13/100\n",
      "1563/1563 [==============================] - 6s 4ms/step - loss: 1.1679 - accuracy: 0.5910\n",
      "Epoch 14/100\n",
      "1563/1563 [==============================] - 7s 4ms/step - loss: 1.1422 - accuracy: 0.6012\n",
      "Epoch 15/100\n",
      "1563/1563 [==============================] - 7s 4ms/step - loss: 1.1155 - accuracy: 0.6107\n",
      "Epoch 16/100\n",
      "1563/1563 [==============================] - 6s 4ms/step - loss: 1.0877 - accuracy: 0.6196\n",
      "Epoch 17/100\n",
      "1563/1563 [==============================] - 7s 4ms/step - loss: 1.0664 - accuracy: 0.6261\n",
      "Epoch 18/100\n",
      "1563/1563 [==============================] - 6s 4ms/step - loss: 1.0361 - accuracy: 0.6376\n",
      "Epoch 19/100\n",
      "1563/1563 [==============================] - 7s 4ms/step - loss: 1.0122 - accuracy: 0.6492\n",
      "Epoch 20/100\n",
      "1563/1563 [==============================] - 6s 4ms/step - loss: 0.9877 - accuracy: 0.6566\n",
      "Epoch 21/100\n",
      "1563/1563 [==============================] - 7s 4ms/step - loss: 0.9625 - accuracy: 0.6677\n",
      "Epoch 22/100\n",
      "1563/1563 [==============================] - 6s 4ms/step - loss: 0.9370 - accuracy: 0.6766\n",
      "Epoch 23/100\n",
      "1563/1563 [==============================] - 7s 4ms/step - loss: 0.9082 - accuracy: 0.6856\n",
      "Epoch 24/100\n",
      "1563/1563 [==============================] - 6s 4ms/step - loss: 0.8848 - accuracy: 0.6947\n",
      "Epoch 25/100\n",
      "1563/1563 [==============================] - 7s 4ms/step - loss: 0.8599 - accuracy: 0.7025\n",
      "Epoch 26/100\n",
      "1563/1563 [==============================] - 6s 4ms/step - loss: 0.8337 - accuracy: 0.7136\n",
      "Epoch 27/100\n",
      "1563/1563 [==============================] - 7s 4ms/step - loss: 0.8114 - accuracy: 0.7198\n",
      "Epoch 28/100\n",
      "1563/1563 [==============================] - 6s 4ms/step - loss: 0.7837 - accuracy: 0.7308\n",
      "Epoch 29/100\n",
      "1563/1563 [==============================] - 7s 4ms/step - loss: 0.7592 - accuracy: 0.7405\n",
      "Epoch 30/100\n",
      "1563/1563 [==============================] - 7s 4ms/step - loss: 0.7329 - accuracy: 0.7513\n",
      "Epoch 31/100\n",
      "1563/1563 [==============================] - 7s 4ms/step - loss: 0.7115 - accuracy: 0.7568\n",
      "Epoch 32/100\n",
      "1563/1563 [==============================] - 7s 4ms/step - loss: 0.6839 - accuracy: 0.7678\n",
      "Epoch 33/100\n",
      "1563/1563 [==============================] - 6s 4ms/step - loss: 0.6634 - accuracy: 0.7756\n",
      "Epoch 34/100\n",
      "1563/1563 [==============================] - 7s 4ms/step - loss: 0.6397 - accuracy: 0.7840\n",
      "Epoch 35/100\n",
      "1563/1563 [==============================] - 6s 4ms/step - loss: 0.6126 - accuracy: 0.7935\n",
      "Epoch 36/100\n",
      "1563/1563 [==============================] - 7s 4ms/step - loss: 0.5893 - accuracy: 0.8019\n",
      "Epoch 37/100\n",
      "1563/1563 [==============================] - 6s 4ms/step - loss: 0.5625 - accuracy: 0.8116\n",
      "Epoch 38/100\n",
      "1563/1563 [==============================] - 7s 4ms/step - loss: 0.5402 - accuracy: 0.8197\n",
      "Epoch 39/100\n",
      "1563/1563 [==============================] - 6s 4ms/step - loss: 0.5189 - accuracy: 0.8296\n",
      "Epoch 40/100\n",
      "1563/1563 [==============================] - 7s 4ms/step - loss: 0.4961 - accuracy: 0.8374\n",
      "Epoch 41/100\n",
      "1563/1563 [==============================] - 6s 4ms/step - loss: 0.4778 - accuracy: 0.8448\n",
      "Epoch 42/100\n",
      "1563/1563 [==============================] - 7s 4ms/step - loss: 0.4523 - accuracy: 0.8531\n",
      "Epoch 43/100\n",
      "1563/1563 [==============================] - 6s 4ms/step - loss: 0.4306 - accuracy: 0.8615\n",
      "Epoch 44/100\n",
      "1563/1563 [==============================] - 7s 4ms/step - loss: 0.4132 - accuracy: 0.8695\n",
      "Epoch 45/100\n",
      "1563/1563 [==============================] - 6s 4ms/step - loss: 0.3886 - accuracy: 0.8766\n",
      "Epoch 46/100\n",
      "1563/1563 [==============================] - 7s 4ms/step - loss: 0.3749 - accuracy: 0.8819\n",
      "Epoch 47/100\n",
      "1563/1563 [==============================] - 6s 4ms/step - loss: 0.3509 - accuracy: 0.8890\n",
      "Epoch 48/100\n",
      "1563/1563 [==============================] - 7s 4ms/step - loss: 0.3368 - accuracy: 0.8958\n",
      "Epoch 49/100\n",
      "1563/1563 [==============================] - 7s 4ms/step - loss: 0.3167 - accuracy: 0.9044\n",
      "Epoch 50/100\n",
      "1563/1563 [==============================] - 6s 4ms/step - loss: 0.3028 - accuracy: 0.9086\n",
      "Epoch 51/100\n",
      "1563/1563 [==============================] - 7s 4ms/step - loss: 0.2830 - accuracy: 0.9163\n",
      "Epoch 52/100\n",
      "1563/1563 [==============================] - 6s 4ms/step - loss: 0.2670 - accuracy: 0.9215\n",
      "Epoch 53/100\n",
      "1563/1563 [==============================] - 7s 4ms/step - loss: 0.2550 - accuracy: 0.9262\n",
      "Epoch 54/100\n",
      "1563/1563 [==============================] - 7s 5ms/step - loss: 0.2385 - accuracy: 0.9320\n",
      "Epoch 55/100\n",
      "1563/1563 [==============================] - 7s 4ms/step - loss: 0.2238 - accuracy: 0.9365\n",
      "Epoch 56/100\n",
      "1563/1563 [==============================] - 6s 4ms/step - loss: 0.2074 - accuracy: 0.9432\n",
      "Epoch 57/100\n",
      "1563/1563 [==============================] - 7s 4ms/step - loss: 0.1983 - accuracy: 0.9453\n",
      "Epoch 58/100\n",
      "1563/1563 [==============================] - 6s 4ms/step - loss: 0.1861 - accuracy: 0.9502\n",
      "Epoch 59/100\n",
      "1563/1563 [==============================] - 7s 4ms/step - loss: 0.1730 - accuracy: 0.9544\n",
      "Epoch 60/100\n",
      "1563/1563 [==============================] - 6s 4ms/step - loss: 0.1615 - accuracy: 0.9586\n",
      "Epoch 61/100\n",
      "1563/1563 [==============================] - 7s 4ms/step - loss: 0.1466 - accuracy: 0.9632\n",
      "Epoch 62/100\n",
      "1563/1563 [==============================] - 7s 4ms/step - loss: 0.1397 - accuracy: 0.9656\n",
      "Epoch 63/100\n",
      "1563/1563 [==============================] - 6s 4ms/step - loss: 0.1323 - accuracy: 0.9682\n",
      "Epoch 64/100\n",
      "1563/1563 [==============================] - 7s 4ms/step - loss: 0.1197 - accuracy: 0.9717\n",
      "Epoch 65/100\n",
      "1563/1563 [==============================] - 6s 4ms/step - loss: 0.1160 - accuracy: 0.9734\n",
      "Epoch 66/100\n",
      "1563/1563 [==============================] - 7s 4ms/step - loss: 0.1049 - accuracy: 0.9773\n",
      "Epoch 67/100\n",
      "1563/1563 [==============================] - 6s 4ms/step - loss: 0.0964 - accuracy: 0.9797\n",
      "Epoch 68/100\n",
      "1563/1563 [==============================] - 7s 4ms/step - loss: 0.0893 - accuracy: 0.9821\n",
      "Epoch 69/100\n",
      "1563/1563 [==============================] - 6s 4ms/step - loss: 0.0892 - accuracy: 0.9821\n",
      "Epoch 70/100\n",
      "1563/1563 [==============================] - 7s 4ms/step - loss: 0.0801 - accuracy: 0.9836\n",
      "Epoch 71/100\n",
      "1563/1563 [==============================] - 6s 4ms/step - loss: 0.0714 - accuracy: 0.9869\n",
      "Epoch 72/100\n",
      "1563/1563 [==============================] - 7s 4ms/step - loss: 0.0672 - accuracy: 0.9877\n",
      "Epoch 73/100\n",
      "1563/1563 [==============================] - 6s 4ms/step - loss: 0.0640 - accuracy: 0.9882\n",
      "Epoch 74/100\n",
      "1563/1563 [==============================] - 7s 4ms/step - loss: 0.0561 - accuracy: 0.9904\n",
      "Epoch 75/100\n",
      "1563/1563 [==============================] - 6s 4ms/step - loss: 0.0516 - accuracy: 0.9923\n",
      "Epoch 76/100\n",
      "1563/1563 [==============================] - 7s 4ms/step - loss: 0.0456 - accuracy: 0.9938\n",
      "Epoch 77/100\n",
      "1563/1563 [==============================] - 6s 4ms/step - loss: 0.0462 - accuracy: 0.9932\n",
      "Epoch 78/100\n",
      "1563/1563 [==============================] - 7s 4ms/step - loss: 0.0416 - accuracy: 0.9945\n",
      "Epoch 79/100\n",
      "1563/1563 [==============================] - 7s 4ms/step - loss: 0.0362 - accuracy: 0.9958\n",
      "Epoch 80/100\n",
      "1563/1563 [==============================] - 6s 4ms/step - loss: 0.0350 - accuracy: 0.9958\n",
      "Epoch 81/100\n",
      "1563/1563 [==============================] - 7s 4ms/step - loss: 0.0327 - accuracy: 0.9961\n",
      "Epoch 82/100\n",
      "1563/1563 [==============================] - 6s 4ms/step - loss: 0.0308 - accuracy: 0.9964\n",
      "Epoch 83/100\n",
      "1563/1563 [==============================] - 7s 4ms/step - loss: 0.0287 - accuracy: 0.9967\n",
      "Epoch 84/100\n",
      "1563/1563 [==============================] - 6s 4ms/step - loss: 0.0271 - accuracy: 0.9969\n",
      "Epoch 85/100\n",
      "1563/1563 [==============================] - 7s 4ms/step - loss: 0.0247 - accuracy: 0.9977\n",
      "Epoch 86/100\n",
      "1563/1563 [==============================] - 6s 4ms/step - loss: 0.0232 - accuracy: 0.9979\n",
      "Epoch 87/100\n",
      "1563/1563 [==============================] - 7s 4ms/step - loss: 0.0220 - accuracy: 0.9983\n",
      "Epoch 88/100\n",
      "1563/1563 [==============================] - 6s 4ms/step - loss: 0.0204 - accuracy: 0.9982\n",
      "Epoch 89/100\n",
      "1563/1563 [==============================] - 7s 4ms/step - loss: 0.0193 - accuracy: 0.9985\n",
      "Epoch 90/100\n",
      "1563/1563 [==============================] - 6s 4ms/step - loss: 0.0172 - accuracy: 0.9989\n",
      "Epoch 91/100\n",
      "1563/1563 [==============================] - 7s 4ms/step - loss: 0.0165 - accuracy: 0.9990\n",
      "Epoch 92/100\n",
      "1563/1563 [==============================] - 7s 4ms/step - loss: 0.0163 - accuracy: 0.9989\n",
      "Epoch 93/100\n",
      "1563/1563 [==============================] - 7s 5ms/step - loss: 0.0151 - accuracy: 0.9991\n",
      "Epoch 94/100\n",
      "1563/1563 [==============================] - 7s 5ms/step - loss: 0.0146 - accuracy: 0.9990\n",
      "Epoch 95/100\n",
      "1563/1563 [==============================] - 6s 4ms/step - loss: 0.0134 - accuracy: 0.9993\n",
      "Epoch 96/100\n",
      "1563/1563 [==============================] - 7s 4ms/step - loss: 0.0129 - accuracy: 0.9994\n",
      "Epoch 97/100\n",
      "1563/1563 [==============================] - 6s 4ms/step - loss: 0.0121 - accuracy: 0.9996\n",
      "Epoch 98/100\n",
      "1563/1563 [==============================] - 7s 4ms/step - loss: 0.0113 - accuracy: 0.9997\n",
      "Epoch 99/100\n",
      "1563/1563 [==============================] - 6s 4ms/step - loss: 0.0121 - accuracy: 0.9994\n",
      "Epoch 100/100\n",
      "1563/1563 [==============================] - 7s 4ms/step - loss: 0.0107 - accuracy: 0.9996\n"
     ]
    },
    {
     "data": {
      "text/plain": [
       "<keras.callbacks.History at 0x7f6294582ce0>"
      ]
     },
     "execution_count": 29,
     "metadata": {},
     "output_type": "execute_result"
    }
   ],
   "source": [
    "ann = models.Sequential([\n",
    "    layers.Flatten(input_shape = (32, 32, 3)),\n",
    "    layers.Dense(3000, activation = 'relu'),\n",
    "    layers.Dense(1000, activation = 'relu'),\n",
    "    layers.Dense(10, activation = 'sigmoid'),\n",
    "])\n",
    "\n",
    "ann.compile(optimizer = 'SGD', loss = 'sparse_categorical_crossentropy', metrics=['accuracy'])\n",
    "\n",
    "ann.fit(x_train, y_train, epochs = 100)"
   ]
  },
  {
   "cell_type": "code",
   "execution_count": 30,
   "metadata": {
    "colab": {
     "base_uri": "https://localhost:8080/"
    },
    "id": "732Ae1ap4M8c",
    "outputId": "56dce548-6f2c-4645-bd5d-7296588a1de0"
   },
   "outputs": [
    {
     "name": "stdout",
     "output_type": "stream",
     "text": [
      "313/313 [==============================] - 1s 3ms/step - loss: 2.1729 - accuracy: 0.5791\n"
     ]
    },
    {
     "data": {
      "text/plain": [
       "[2.1729094982147217, 0.5791000127792358]"
      ]
     },
     "execution_count": 30,
     "metadata": {},
     "output_type": "execute_result"
    }
   ],
   "source": [
    "ann.evaluate(x_test, y_test)"
   ]
  },
  {
   "cell_type": "code",
   "execution_count": 31,
   "metadata": {
    "colab": {
     "base_uri": "https://localhost:8080/"
    },
    "id": "mXQez0Sz4SjB",
    "outputId": "953cfbcc-a9d1-4555-df81-19fbe3caa80a"
   },
   "outputs": [
    {
     "name": "stdout",
     "output_type": "stream",
     "text": [
      "313/313 [==============================] - 1s 2ms/step\n",
      "Classification Report : \n",
      "               precision    recall  f1-score   support\n",
      "\n",
      "           0       0.66      0.69      0.67      1000\n",
      "           1       0.66      0.68      0.67      1000\n",
      "           2       0.41      0.55      0.47      1000\n",
      "           3       0.41      0.42      0.41      1000\n",
      "           4       0.57      0.43      0.49      1000\n",
      "           5       0.50      0.44      0.47      1000\n",
      "           6       0.63      0.64      0.64      1000\n",
      "           7       0.64      0.64      0.64      1000\n",
      "           8       0.70      0.69      0.69      1000\n",
      "           9       0.61      0.58      0.59      1000\n",
      "\n",
      "    accuracy                           0.57     10000\n",
      "   macro avg       0.58      0.57      0.57     10000\n",
      "weighted avg       0.58      0.57      0.57     10000\n",
      "\n"
     ]
    }
   ],
   "source": [
    "from sklearn.metrics import confusion_matrix, classification_report\n",
    "import numpy as np\n",
    "y_pred = ann.predict(x_test)\n",
    "y_pred_classes = [np.argmax(element) for element in y_pred]\n",
    "\n",
    "print('Classification Report : \\n', classification_report(y_test, y_pred_classes))"
   ]
  },
  {
   "cell_type": "code",
   "execution_count": null,
   "metadata": {
    "id": "WwLyL4o-_UMS"
   },
   "outputs": [],
   "source": [
    "#In the ANN model, the accuracy of the training data is around 99%, but for actual testing, it gives only about 57% accuracy, this is overfitting"
   ]
  },
  {
   "cell_type": "code",
   "execution_count": 32,
   "metadata": {
    "id": "TjeT000b_zAL"
   },
   "outputs": [],
   "source": [
    "cnn = models.Sequential([\n",
    "    \n",
    "    #cnn\n",
    "    layers.Conv2D(filters = 32, kernel_size = (3,3), activation = 'relu', input_shape = (32,32,3)),\n",
    "    layers.MaxPooling2D((2,2)),\n",
    "\n",
    "\n",
    "    #dense\n",
    "    layers.Flatten(),\n",
    "    layers.Dense(64, activation = 'relu'),\n",
    "    layers.Dense(10, activation = 'softmax'),\n",
    "])"
   ]
  },
  {
   "cell_type": "code",
   "execution_count": 33,
   "metadata": {
    "colab": {
     "base_uri": "https://localhost:8080/"
    },
    "id": "88d7aq52BpV2",
    "outputId": "a8d90045-e526-4410-9c09-059d0f1e83ed"
   },
   "outputs": [
    {
     "name": "stdout",
     "output_type": "stream",
     "text": [
      "Epoch 1/100\n",
      "1563/1563 [==============================] - 10s 3ms/step - loss: 1.9048 - accuracy: 0.3232\n",
      "Epoch 2/100\n",
      "1563/1563 [==============================] - 5s 3ms/step - loss: 1.5672 - accuracy: 0.4471\n",
      "Epoch 3/100\n",
      "1563/1563 [==============================] - 5s 3ms/step - loss: 1.3801 - accuracy: 0.5104\n",
      "Epoch 4/100\n",
      "1563/1563 [==============================] - 5s 3ms/step - loss: 1.2729 - accuracy: 0.5525\n",
      "Epoch 5/100\n",
      "1563/1563 [==============================] - 5s 4ms/step - loss: 1.2044 - accuracy: 0.5773\n",
      "Epoch 6/100\n",
      "1563/1563 [==============================] - 5s 3ms/step - loss: 1.1477 - accuracy: 0.5988\n",
      "Epoch 7/100\n",
      "1563/1563 [==============================] - 6s 4ms/step - loss: 1.1004 - accuracy: 0.6180\n",
      "Epoch 8/100\n",
      "1563/1563 [==============================] - 5s 3ms/step - loss: 1.0559 - accuracy: 0.6313\n",
      "Epoch 9/100\n",
      "1563/1563 [==============================] - 5s 3ms/step - loss: 1.0141 - accuracy: 0.6475\n",
      "Epoch 10/100\n",
      "1563/1563 [==============================] - 5s 3ms/step - loss: 0.9761 - accuracy: 0.6593\n",
      "Epoch 11/100\n",
      "1563/1563 [==============================] - 5s 3ms/step - loss: 0.9377 - accuracy: 0.6734\n",
      "Epoch 12/100\n",
      "1563/1563 [==============================] - 6s 4ms/step - loss: 0.9029 - accuracy: 0.6877\n",
      "Epoch 13/100\n",
      "1563/1563 [==============================] - 5s 3ms/step - loss: 0.8715 - accuracy: 0.6977\n",
      "Epoch 14/100\n",
      "1563/1563 [==============================] - 6s 4ms/step - loss: 0.8400 - accuracy: 0.7091\n",
      "Epoch 15/100\n",
      "1563/1563 [==============================] - 5s 3ms/step - loss: 0.8109 - accuracy: 0.7209\n",
      "Epoch 16/100\n",
      "1563/1563 [==============================] - 5s 3ms/step - loss: 0.7821 - accuracy: 0.7295\n",
      "Epoch 17/100\n",
      "1563/1563 [==============================] - 5s 3ms/step - loss: 0.7543 - accuracy: 0.7407\n",
      "Epoch 18/100\n",
      "1563/1563 [==============================] - 5s 3ms/step - loss: 0.7270 - accuracy: 0.7493\n",
      "Epoch 19/100\n",
      "1563/1563 [==============================] - 5s 3ms/step - loss: 0.6989 - accuracy: 0.7590\n",
      "Epoch 20/100\n",
      "1563/1563 [==============================] - 6s 4ms/step - loss: 0.6739 - accuracy: 0.7679\n",
      "Epoch 21/100\n",
      "1563/1563 [==============================] - 6s 4ms/step - loss: 0.6503 - accuracy: 0.7768\n",
      "Epoch 22/100\n",
      "1563/1563 [==============================] - 5s 3ms/step - loss: 0.6249 - accuracy: 0.7850\n",
      "Epoch 23/100\n",
      "1563/1563 [==============================] - 5s 3ms/step - loss: 0.6004 - accuracy: 0.7926\n",
      "Epoch 24/100\n",
      "1563/1563 [==============================] - 5s 3ms/step - loss: 0.5745 - accuracy: 0.8044\n",
      "Epoch 25/100\n",
      "1563/1563 [==============================] - 5s 3ms/step - loss: 0.5532 - accuracy: 0.8134\n",
      "Epoch 26/100\n",
      "1563/1563 [==============================] - 5s 3ms/step - loss: 0.5270 - accuracy: 0.8217\n",
      "Epoch 27/100\n",
      "1563/1563 [==============================] - 5s 3ms/step - loss: 0.5041 - accuracy: 0.8268\n",
      "Epoch 28/100\n",
      "1563/1563 [==============================] - 6s 4ms/step - loss: 0.4814 - accuracy: 0.8369\n",
      "Epoch 29/100\n",
      "1563/1563 [==============================] - 5s 3ms/step - loss: 0.4585 - accuracy: 0.8445\n",
      "Epoch 30/100\n",
      "1563/1563 [==============================] - 5s 3ms/step - loss: 0.4382 - accuracy: 0.8529\n",
      "Epoch 31/100\n",
      "1563/1563 [==============================] - 6s 4ms/step - loss: 0.4163 - accuracy: 0.8609\n",
      "Epoch 32/100\n",
      "1563/1563 [==============================] - 5s 3ms/step - loss: 0.3945 - accuracy: 0.8666\n",
      "Epoch 33/100\n",
      "1563/1563 [==============================] - 5s 4ms/step - loss: 0.3740 - accuracy: 0.8759\n",
      "Epoch 34/100\n",
      "1563/1563 [==============================] - 5s 3ms/step - loss: 0.3553 - accuracy: 0.8827\n",
      "Epoch 35/100\n",
      "1563/1563 [==============================] - 5s 3ms/step - loss: 0.3351 - accuracy: 0.8907\n",
      "Epoch 36/100\n",
      "1563/1563 [==============================] - 5s 3ms/step - loss: 0.3143 - accuracy: 0.8980\n",
      "Epoch 37/100\n",
      "1563/1563 [==============================] - 5s 3ms/step - loss: 0.2987 - accuracy: 0.9033\n",
      "Epoch 38/100\n",
      "1563/1563 [==============================] - 6s 4ms/step - loss: 0.2786 - accuracy: 0.9114\n",
      "Epoch 39/100\n",
      "1563/1563 [==============================] - 5s 3ms/step - loss: 0.2602 - accuracy: 0.9184\n",
      "Epoch 40/100\n",
      "1563/1563 [==============================] - 5s 3ms/step - loss: 0.2446 - accuracy: 0.9245\n",
      "Epoch 41/100\n",
      "1563/1563 [==============================] - 5s 3ms/step - loss: 0.2276 - accuracy: 0.9305\n",
      "Epoch 42/100\n",
      "1563/1563 [==============================] - 5s 3ms/step - loss: 0.2108 - accuracy: 0.9384\n",
      "Epoch 43/100\n",
      "1563/1563 [==============================] - 5s 3ms/step - loss: 0.1965 - accuracy: 0.9425\n",
      "Epoch 44/100\n",
      "1563/1563 [==============================] - 5s 3ms/step - loss: 0.1833 - accuracy: 0.9477\n",
      "Epoch 45/100\n",
      "1563/1563 [==============================] - 6s 4ms/step - loss: 0.1684 - accuracy: 0.9532\n",
      "Epoch 46/100\n",
      "1563/1563 [==============================] - 5s 3ms/step - loss: 0.1566 - accuracy: 0.9576\n",
      "Epoch 47/100\n",
      "1563/1563 [==============================] - 5s 3ms/step - loss: 0.1427 - accuracy: 0.9635\n",
      "Epoch 48/100\n",
      "1563/1563 [==============================] - 5s 3ms/step - loss: 0.1295 - accuracy: 0.9683\n",
      "Epoch 49/100\n",
      "1563/1563 [==============================] - 5s 3ms/step - loss: 0.1202 - accuracy: 0.9711\n",
      "Epoch 50/100\n",
      "1563/1563 [==============================] - 5s 4ms/step - loss: 0.1086 - accuracy: 0.9759\n",
      "Epoch 51/100\n",
      "1563/1563 [==============================] - 5s 3ms/step - loss: 0.0984 - accuracy: 0.9795\n",
      "Epoch 52/100\n",
      "1563/1563 [==============================] - 6s 4ms/step - loss: 0.0886 - accuracy: 0.9831\n",
      "Epoch 53/100\n",
      "1563/1563 [==============================] - 5s 3ms/step - loss: 0.0785 - accuracy: 0.9861\n",
      "Epoch 54/100\n",
      "1563/1563 [==============================] - 5s 3ms/step - loss: 0.0705 - accuracy: 0.9896\n",
      "Epoch 55/100\n",
      "1563/1563 [==============================] - 5s 3ms/step - loss: 0.0657 - accuracy: 0.9898\n",
      "Epoch 56/100\n",
      "1563/1563 [==============================] - 5s 3ms/step - loss: 0.0593 - accuracy: 0.9917\n",
      "Epoch 57/100\n",
      "1563/1563 [==============================] - 5s 3ms/step - loss: 0.0521 - accuracy: 0.9943\n",
      "Epoch 58/100\n",
      "1563/1563 [==============================] - 5s 3ms/step - loss: 0.0472 - accuracy: 0.9950\n",
      "Epoch 59/100\n",
      "1563/1563 [==============================] - 6s 4ms/step - loss: 0.0418 - accuracy: 0.9965\n",
      "Epoch 60/100\n",
      "1563/1563 [==============================] - 5s 3ms/step - loss: 0.0386 - accuracy: 0.9968\n",
      "Epoch 61/100\n",
      "1563/1563 [==============================] - 5s 3ms/step - loss: 0.0351 - accuracy: 0.9974\n",
      "Epoch 62/100\n",
      "1563/1563 [==============================] - 5s 3ms/step - loss: 0.0314 - accuracy: 0.9979\n",
      "Epoch 63/100\n",
      "1563/1563 [==============================] - 5s 3ms/step - loss: 0.0288 - accuracy: 0.9982\n",
      "Epoch 64/100\n",
      "1563/1563 [==============================] - 6s 4ms/step - loss: 0.0267 - accuracy: 0.9982\n",
      "Epoch 65/100\n",
      "1563/1563 [==============================] - 5s 3ms/step - loss: 0.0241 - accuracy: 0.9991\n",
      "Epoch 66/100\n",
      "1563/1563 [==============================] - 5s 4ms/step - loss: 0.0225 - accuracy: 0.9989\n",
      "Epoch 67/100\n",
      "1563/1563 [==============================] - 5s 3ms/step - loss: 0.0215 - accuracy: 0.9991\n",
      "Epoch 68/100\n",
      "1563/1563 [==============================] - 5s 3ms/step - loss: 0.0197 - accuracy: 0.9992\n",
      "Epoch 69/100\n",
      "1563/1563 [==============================] - 5s 3ms/step - loss: 0.0182 - accuracy: 0.9994\n",
      "Epoch 70/100\n",
      "1563/1563 [==============================] - 5s 3ms/step - loss: 0.0173 - accuracy: 0.9995\n",
      "Epoch 71/100\n",
      "1563/1563 [==============================] - 5s 4ms/step - loss: 0.0163 - accuracy: 0.9994\n",
      "Epoch 72/100\n",
      "1563/1563 [==============================] - 5s 3ms/step - loss: 0.0154 - accuracy: 0.9994\n",
      "Epoch 73/100\n",
      "1563/1563 [==============================] - 5s 4ms/step - loss: 0.0145 - accuracy: 0.9997\n",
      "Epoch 74/100\n",
      "1563/1563 [==============================] - 5s 3ms/step - loss: 0.0134 - accuracy: 0.9997\n",
      "Epoch 75/100\n",
      "1563/1563 [==============================] - 5s 3ms/step - loss: 0.0134 - accuracy: 0.9995\n",
      "Epoch 76/100\n",
      "1563/1563 [==============================] - 5s 3ms/step - loss: 0.0125 - accuracy: 0.9997\n",
      "Epoch 77/100\n",
      "1563/1563 [==============================] - 5s 3ms/step - loss: 0.0115 - accuracy: 0.9998\n",
      "Epoch 78/100\n",
      "1563/1563 [==============================] - 5s 4ms/step - loss: 0.0114 - accuracy: 0.9996\n",
      "Epoch 79/100\n",
      "1563/1563 [==============================] - 5s 3ms/step - loss: 0.0110 - accuracy: 0.9997\n",
      "Epoch 80/100\n",
      "1563/1563 [==============================] - 6s 4ms/step - loss: 0.0101 - accuracy: 0.9998\n",
      "Epoch 81/100\n",
      "1563/1563 [==============================] - 5s 3ms/step - loss: 0.0096 - accuracy: 0.9998\n",
      "Epoch 82/100\n",
      "1563/1563 [==============================] - 5s 3ms/step - loss: 0.0094 - accuracy: 0.9999\n",
      "Epoch 83/100\n",
      "1563/1563 [==============================] - 6s 4ms/step - loss: 0.0090 - accuracy: 0.9998\n",
      "Epoch 84/100\n",
      "1563/1563 [==============================] - 5s 3ms/step - loss: 0.0086 - accuracy: 0.9999\n",
      "Epoch 85/100\n",
      "1563/1563 [==============================] - 5s 4ms/step - loss: 0.0081 - accuracy: 0.9999\n",
      "Epoch 86/100\n",
      "1563/1563 [==============================] - 5s 3ms/step - loss: 0.0078 - accuracy: 1.0000\n",
      "Epoch 87/100\n",
      "1563/1563 [==============================] - 5s 3ms/step - loss: 0.0075 - accuracy: 0.9999\n",
      "Epoch 88/100\n",
      "1563/1563 [==============================] - 5s 3ms/step - loss: 0.0073 - accuracy: 1.0000\n",
      "Epoch 89/100\n",
      "1563/1563 [==============================] - 5s 3ms/step - loss: 0.0071 - accuracy: 0.9999\n",
      "Epoch 90/100\n",
      "1563/1563 [==============================] - 6s 4ms/step - loss: 0.0068 - accuracy: 1.0000\n",
      "Epoch 91/100\n",
      "1563/1563 [==============================] - 5s 3ms/step - loss: 0.0065 - accuracy: 1.0000\n",
      "Epoch 92/100\n",
      "1563/1563 [==============================] - 6s 4ms/step - loss: 0.0063 - accuracy: 1.0000\n",
      "Epoch 93/100\n",
      "1563/1563 [==============================] - 5s 3ms/step - loss: 0.0063 - accuracy: 0.9999\n",
      "Epoch 94/100\n",
      "1563/1563 [==============================] - 5s 3ms/step - loss: 0.0061 - accuracy: 0.9999\n",
      "Epoch 95/100\n",
      "1563/1563 [==============================] - 5s 3ms/step - loss: 0.0064 - accuracy: 0.9998\n",
      "Epoch 96/100\n",
      "1563/1563 [==============================] - 5s 3ms/step - loss: 0.0063 - accuracy: 0.9998\n",
      "Epoch 97/100\n",
      "1563/1563 [==============================] - 5s 4ms/step - loss: 0.0056 - accuracy: 1.0000\n",
      "Epoch 98/100\n",
      "1563/1563 [==============================] - 5s 3ms/step - loss: 0.0054 - accuracy: 1.0000\n",
      "Epoch 99/100\n",
      "1563/1563 [==============================] - 6s 4ms/step - loss: 0.0053 - accuracy: 1.0000\n",
      "Epoch 100/100\n",
      "1563/1563 [==============================] - 5s 3ms/step - loss: 0.0051 - accuracy: 1.0000\n"
     ]
    },
    {
     "data": {
      "text/plain": [
       "<keras.callbacks.History at 0x7f6294582380>"
      ]
     },
     "execution_count": 33,
     "metadata": {},
     "output_type": "execute_result"
    }
   ],
   "source": [
    "cnn.compile(optimizer = 'SGD', loss = 'sparse_categorical_crossentropy', metrics=['accuracy'])\n",
    "\n",
    "cnn.fit(x_train, y_train, epochs = 100)"
   ]
  },
  {
   "cell_type": "code",
   "execution_count": 34,
   "metadata": {
    "colab": {
     "base_uri": "https://localhost:8080/"
    },
    "id": "es-fe89uEDWq",
    "outputId": "b0a43ee9-155f-4d87-80ec-bc06e5e22b1d"
   },
   "outputs": [
    {
     "name": "stdout",
     "output_type": "stream",
     "text": [
      "313/313 [==============================] - 2s 4ms/step - loss: 2.7653 - accuracy: 0.6349\n"
     ]
    },
    {
     "data": {
      "text/plain": [
       "[2.7652971744537354, 0.6348999738693237]"
      ]
     },
     "execution_count": 34,
     "metadata": {},
     "output_type": "execute_result"
    }
   ],
   "source": [
    "cnn.evaluate(x_test, y_test)"
   ]
  },
  {
   "cell_type": "code",
   "execution_count": 36,
   "metadata": {
    "colab": {
     "base_uri": "https://localhost:8080/"
    },
    "id": "aHndcYTDEWkT",
    "outputId": "521e5642-0753-42c4-f613-77be68825d5d"
   },
   "outputs": [
    {
     "data": {
      "text/plain": [
       "array([3, 8, 8, 0, 6], dtype=uint8)"
      ]
     },
     "execution_count": 36,
     "metadata": {},
     "output_type": "execute_result"
    }
   ],
   "source": [
    "y_test = y_test.reshape(-1,)\n",
    "y_test[:5]"
   ]
  },
  {
   "cell_type": "code",
   "execution_count": 46,
   "metadata": {
    "colab": {
     "base_uri": "https://localhost:8080/",
     "height": 449
    },
    "id": "7OmNZyndEm8r",
    "outputId": "304d3e57-a530-4ba7-f1e6-fadb223a690f"
   },
   "outputs": [
    {
     "data": {
      "image/png": "[encoded data removed]",
      "text/plain": [
       "<Figure size 640x480 with 1 Axes>"
      ]
     },
     "metadata": {},
     "output_type": "display_data"
    }
   ],
   "source": [
    "example(x_test, y_test, 235)"
   ]
  },
  {
   "cell_type": "code",
   "execution_count": 47,
   "metadata": {
    "colab": {
     "base_uri": "https://localhost:8080/"
    },
    "id": "s32bBBsCFXti",
    "outputId": "1d155431-442d-45f5-c3cc-e81c62de3af6"
   },
   "outputs": [
    {
     "name": "stdout",
     "output_type": "stream",
     "text": [
      "313/313 [==============================] - 1s 2ms/step\n"
     ]
    },
    {
     "data": {
      "text/plain": [
       "array([[6.7776362e-13, 1.0896353e-09, 8.9638136e-10, 9.9954778e-01,\n",
       "        4.4866907e-04, 2.1451160e-06, 8.9888196e-08, 1.4214382e-11,\n",
       "        4.9507909e-09, 1.3192581e-06],\n",
       "       [1.1268030e-08, 8.2674569e-01, 1.0654162e-23, 8.3781667e-23,\n",
       "        7.1671566e-15, 9.5370049e-24, 3.2326635e-28, 6.5206777e-20,\n",
       "        1.7325433e-01, 3.0581548e-10],\n",
       "       [9.7283518e-01, 6.1923726e-07, 5.6118989e-08, 2.3046530e-11,\n",
       "        6.1944847e-06, 1.2525715e-07, 3.1314351e-17, 5.9455812e-10,\n",
       "        2.7069163e-02, 8.8808047e-05],\n",
       "       [9.1215241e-01, 1.3002175e-03, 6.6984282e-04, 2.5146991e-07,\n",
       "        2.7975574e-08, 1.1615950e-13, 6.9029625e-08, 2.6483709e-12,\n",
       "        8.5877068e-02, 7.2557029e-08],\n",
       "       [2.1965381e-19, 1.3734090e-10, 1.2251621e-07, 2.3513155e-04,\n",
       "        9.9887937e-01, 2.6968181e-09, 8.8537799e-04, 3.7519950e-17,\n",
       "        2.2717807e-16, 3.8599064e-16],\n",
       "       [1.5897703e-13, 4.0581402e-10, 4.7461118e-10, 5.8251603e-06,\n",
       "        2.1914573e-11, 5.7939901e-06, 9.9998832e-01, 7.2711490e-09,\n",
       "        5.2335519e-15, 1.0853007e-12],\n",
       "       [2.0862380e-16, 1.0000000e+00, 1.1159838e-17, 6.2286422e-12,\n",
       "        2.1617774e-31, 3.0255143e-10, 1.0434509e-16, 1.5326745e-21,\n",
       "        2.2740902e-28, 4.7509652e-11],\n",
       "       [7.6046223e-07, 7.8701788e-11, 9.0672618e-01, 9.6669532e-07,\n",
       "        5.0145315e-11, 7.0435000e-08, 9.3272001e-02, 3.6025072e-12,\n",
       "        6.5333378e-11, 1.5665228e-09],\n",
       "       [2.3534085e-07, 4.7688318e-13, 5.2157880e-08, 9.5785075e-01,\n",
       "        1.7012371e-02, 1.9258210e-02, 1.1033981e-05, 5.8673481e-03,\n",
       "        9.8757079e-15, 6.1421804e-13],\n",
       "       [1.9156075e-17, 1.0000000e+00, 1.2968943e-21, 2.1274216e-20,\n",
       "        5.1429268e-16, 2.8992640e-15, 1.0645781e-18, 2.0386341e-23,\n",
       "        1.9725987e-15, 3.3223483e-08]], dtype=float32)"
      ]
     },
     "execution_count": 47,
     "metadata": {},
     "output_type": "execute_result"
    }
   ],
   "source": [
    "y_pred = cnn.predict(x_test)\n",
    "y_pred[:10]"
   ]
  },
  {
   "cell_type": "code",
   "execution_count": 48,
   "metadata": {
    "colab": {
     "base_uri": "https://localhost:8080/"
    },
    "id": "XCJSzSw5FjAn",
    "outputId": "ae78721e-8584-467e-d832-b09a75ccad53"
   },
   "outputs": [
    {
     "data": {
      "text/plain": [
       "3"
      ]
     },
     "execution_count": 48,
     "metadata": {},
     "output_type": "execute_result"
    }
   ],
   "source": [
    "np.argmax(y_pred[0])"
   ]
  },
  {
   "cell_type": "code",
   "execution_count": 49,
   "metadata": {
    "colab": {
     "base_uri": "https://localhost:8080/"
    },
    "id": "c1B4WaFPFz-s",
    "outputId": "c6a58ad3-4344-4929-85e5-6a3b1bf90220"
   },
   "outputs": [
    {
     "data": {
      "text/plain": [
       "[3, 1, 0, 0, 4, 6, 1, 2, 3, 1]"
      ]
     },
     "execution_count": 49,
     "metadata": {},
     "output_type": "execute_result"
    }
   ],
   "source": [
    "y_classes = [np.argmax(element) for element in y_pred]\n",
    "y_classes[:10]"
   ]
  },
  {
   "cell_type": "code",
   "execution_count": 50,
   "metadata": {
    "colab": {
     "base_uri": "https://localhost:8080/"
    },
    "id": "pEhf1-TxGHNk",
    "outputId": "464ab333-7e66-444b-a59a-68d249ceddd6"
   },
   "outputs": [
    {
     "data": {
      "text/plain": [
       "array([3, 8, 8, 0, 6, 6, 1, 6, 3, 1], dtype=uint8)"
      ]
     },
     "execution_count": 50,
     "metadata": {},
     "output_type": "execute_result"
    }
   ],
   "source": [
    "y_test[:10]"
   ]
  },
  {
   "cell_type": "code",
   "execution_count": 58,
   "metadata": {
    "colab": {
     "base_uri": "https://localhost:8080/",
     "height": 449
    },
    "id": "1GBLullzGSaT",
    "outputId": "1c1a8b42-943b-40e3-d456-9f624578bd9e"
   },
   "outputs": [
    {
     "data": {
      "image/png": "[encoded data removed]",
      "text/plain": [
       "<Figure size 640x480 with 1 Axes>"
      ]
     },
     "metadata": {},
     "output_type": "display_data"
    }
   ],
   "source": [
    "example(x_test, y_test, 12)"
   ]
  },
  {
   "cell_type": "code",
   "execution_count": 59,
   "metadata": {
    "colab": {
     "base_uri": "https://localhost:8080/",
     "height": 35
    },
    "id": "OquGKNeRGaUH",
    "outputId": "93294ac1-3eb4-428c-9441-9be99a9b7a5d"
   },
   "outputs": [
    {
     "data": {
      "application/vnd.google.colaboratory.intrinsic+json": {
       "type": "string"
      },
      "text/plain": [
       "'dog'"
      ]
     },
     "execution_count": 59,
     "metadata": {},
     "output_type": "execute_result"
    }
   ],
   "source": [
    "classes[y_classes[12]]"
   ]
  },
  {
   "cell_type": "code",
   "execution_count": 67,
   "metadata": {
    "colab": {
     "base_uri": "https://localhost:8080/",
     "height": 449
    },
    "id": "mZNrddOJGyKV",
    "outputId": "df86599f-9318-4fbb-e8c5-b18590b5f307"
   },
   "outputs": [
    {
     "data": {
      "image/png": "[encoded data removed]",
      "text/plain": [
       "<Figure size 640x480 with 1 Axes>"
      ]
     },
     "metadata": {},
     "output_type": "display_data"
    }
   ],
   "source": [
    "example(x_test, y_test, 1213)"
   ]
  },
  {
   "cell_type": "code",
   "execution_count": 68,
   "metadata": {
    "colab": {
     "base_uri": "https://localhost:8080/",
     "height": 35
    },
    "id": "DXDe4rZqHAGQ",
    "outputId": "bafecfbc-bc46-4a52-af6f-2a5f7860ead4"
   },
   "outputs": [
    {
     "data": {
      "application/vnd.google.colaboratory.intrinsic+json": {
       "type": "string"
      },
      "text/plain": [
       "'automobile'"
      ]
     },
     "execution_count": 68,
     "metadata": {},
     "output_type": "execute_result"
    }
   ],
   "source": [
    "classes[y_classes[1213]]"
   ]
  },
  {
   "cell_type": "code",
   "execution_count": 69,
   "metadata": {
    "colab": {
     "base_uri": "https://localhost:8080/"
    },
    "id": "6SYVLdcoHR-h",
    "outputId": "736cd252-c854-484e-be7d-2db2c5d5d02d"
   },
   "outputs": [
    {
     "name": "stdout",
     "output_type": "stream",
     "text": [
      "Classification Report : \n",
      "               precision    recall  f1-score   support\n",
      "\n",
      "           0       0.67      0.70      0.69      1000\n",
      "           1       0.74      0.74      0.74      1000\n",
      "           2       0.52      0.51      0.52      1000\n",
      "           3       0.44      0.43      0.44      1000\n",
      "           4       0.58      0.58      0.58      1000\n",
      "           5       0.53      0.53      0.53      1000\n",
      "           6       0.71      0.73      0.72      1000\n",
      "           7       0.69      0.68      0.69      1000\n",
      "           8       0.76      0.75      0.75      1000\n",
      "           9       0.70      0.69      0.70      1000\n",
      "\n",
      "    accuracy                           0.63     10000\n",
      "   macro avg       0.63      0.63      0.63     10000\n",
      "weighted avg       0.63      0.63      0.63     10000\n",
      "\n"
     ]
    }
   ],
   "source": [
    "print('Classification Report : \\n', classification_report(y_test, y_classes))"
   ]
  }
 ],
 "metadata": {
  "accelerator": "GPU",
  "colab": {
   "gpuType": "T4",
   "provenance": []
  },
  "gpuClass": "standard",
  "kernelspec": {
   "display_name": "Python 3 (ipykernel)",
   "language": "python",
   "name": "python3"
  },
  "language_info": {
   "codemirror_mode": {
    "name": "ipython",
    "version": 3
   },
   "file_extension": ".py",
   "mimetype": "text/x-python",
   "name": "python",
   "nbconvert_exporter": "python",
   "pygments_lexer": "ipython3",
   "version": "3.11.4"
  }
 },
 "nbformat": 4,
 "nbformat_minor": 1
}
