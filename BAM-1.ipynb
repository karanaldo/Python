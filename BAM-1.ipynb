{
 "cells": [
  {
   "cell_type": "code",
   "execution_count": 1,
   "id": "1c021e22",
   "metadata": {},
   "outputs": [],
   "source": [
    "#BAM"
   ]
  },
  {
   "cell_type": "code",
   "execution_count": 2,
   "id": "f9d00307",
   "metadata": {},
   "outputs": [],
   "source": [
    "import numpy as np\n",
    "import pandas as pd"
   ]
  },
  {
   "cell_type": "code",
   "execution_count": 16,
   "id": "00ab6ff6",
   "metadata": {},
   "outputs": [],
   "source": [
    "X1 = np.array([[-1, 1, 1, 1]])\n",
    "X2 = np.array([[1, -1, 1, 1]])\n",
    "X3 = np.array([[1, 1, -1, 1]])\n",
    "X4 = np.array([[1, 1, 1, -1]])\n",
    "\n",
    "\n",
    "X=[X1, X2, X3, X4]\n",
    "\n",
    "Y1 = np.array([[1 ,0 ,1]])\n",
    "Y2 = np.array([[1, 1, 1]])\n",
    "Y3 = np.array([[1, 0, 1]])\n",
    "Y4 = np.array([[1, 1, 1]])\n",
    "\n",
    "\n",
    "Y= [Y1, Y2, Y3, Y4]"
   ]
  },
  {
   "cell_type": "code",
   "execution_count": 17,
   "id": "6cf24760",
   "metadata": {},
   "outputs": [],
   "source": [
    "def calcWeight(X, Y):\n",
    "    return np.dot(X.T, Y)"
   ]
  },
  {
   "cell_type": "code",
   "execution_count": 18,
   "id": "45ba8007",
   "metadata": {},
   "outputs": [],
   "source": [
    "def weights(X,Y):\n",
    "    weis=[]\n",
    "    for i in range(4):\n",
    "        weis.append(calcWeight(X[i], Y[i]))\n",
    "    return weis"
   ]
  },
  {
   "cell_type": "code",
   "execution_count": 19,
   "id": "e6a6cb0a",
   "metadata": {},
   "outputs": [],
   "source": [
    "weis=weights(X,Y)"
   ]
  },
  {
   "cell_type": "code",
   "execution_count": 20,
   "id": "acf8490e",
   "metadata": {},
   "outputs": [],
   "source": [
    "def forward_aggregation(X,W):\n",
    "    result=[]\n",
    "    for i in range(len(X)):\n",
    "        result.append(X[i]@W[i])\n",
    "    return np.squeeze(result)"
   ]
  },
  {
   "cell_type": "code",
   "execution_count": 21,
   "id": "4988e1b7",
   "metadata": {},
   "outputs": [],
   "source": [
    "def activation(X):\n",
    "    X = np.array(X)\n",
    "    X[X > 0] = 1\n",
    "    X[X == 0] = 0\n",
    "    X[X < 0] = -1\n",
    "    return X"
   ]
  },
  {
   "cell_type": "code",
   "execution_count": 22,
   "id": "950b1441",
   "metadata": {},
   "outputs": [],
   "source": [
    "def backward_aggregation(X,W):\n",
    "    result=[]\n",
    "    for i in range(len(X)):\n",
    "        result.append(W[i]@X[i].T)\n",
    "    return np.squeeze(result)"
   ]
  },
  {
   "cell_type": "code",
   "execution_count": 23,
   "id": "a393fc83",
   "metadata": {},
   "outputs": [],
   "source": [
    "for_aggri = forward_aggregation(X, weis)"
   ]
  },
  {
   "cell_type": "code",
   "execution_count": 24,
   "id": "4c6f1789",
   "metadata": {},
   "outputs": [
    {
     "data": {
      "text/plain": [
       "array([[1, 0, 1],\n",
       "       [1, 1, 1],\n",
       "       [1, 0, 1],\n",
       "       [1, 1, 1]])"
      ]
     },
     "execution_count": 24,
     "metadata": {},
     "output_type": "execute_result"
    }
   ],
   "source": [
    "activation(for_aggri)"
   ]
  },
  {
   "cell_type": "code",
   "execution_count": 25,
   "id": "2f7cefbb",
   "metadata": {},
   "outputs": [],
   "source": [
    "back_aggri = backward_aggregation(Y, weis)"
   ]
  },
  {
   "cell_type": "code",
   "execution_count": 26,
   "id": "0408c0da",
   "metadata": {},
   "outputs": [
    {
     "data": {
      "text/plain": [
       "array([[-1,  1,  1,  1],\n",
       "       [ 1, -1,  1,  1],\n",
       "       [ 1,  1, -1,  1],\n",
       "       [ 1,  1,  1, -1]])"
      ]
     },
     "execution_count": 26,
     "metadata": {},
     "output_type": "execute_result"
    }
   ],
   "source": [
    "activation(back_aggri)"
   ]
  }
 ],
 "metadata": {
  "kernelspec": {
   "display_name": "Python 3 (ipykernel)",
   "language": "python",
   "name": "python3"
  },
  "language_info": {
   "codemirror_mode": {
    "name": "ipython",
    "version": 3
   },
   "file_extension": ".py",
   "mimetype": "text/x-python",
   "name": "python",
   "nbconvert_exporter": "python",
   "pygments_lexer": "ipython3",
   "version": "3.11.4"
  }
 },
 "nbformat": 4,
 "nbformat_minor": 5
}
