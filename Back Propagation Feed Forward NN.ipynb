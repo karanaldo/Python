{
 "cells": [
  {
   "cell_type": "code",
   "execution_count": 13,
   "id": "eb91c366",
   "metadata": {},
   "outputs": [],
   "source": [
    "import numpy as np"
   ]
  },
  {
   "cell_type": "code",
   "execution_count": 14,
   "id": "205b92af",
   "metadata": {},
   "outputs": [],
   "source": [
    "class NeuralNetwork:\n",
    "    \n",
    "    #Initialize all the variables\n",
    "    def __init__(self, input_size, hidden_size, output_size):\n",
    "        self.input_size = input_size\n",
    "        self.hidden_size = hidden_size\n",
    "        self.output_size = output_size\n",
    "        \n",
    "        # Initialize the weights and biases with random values\n",
    "        self.weights1 = np.random.randn(hidden_size, input_size)\n",
    "        self.bias1 = np.random.randn(hidden_size, 1)\n",
    "        self.weights2 = np.random.randn(output_size, hidden_size)\n",
    "        self.bias2 = np.random.randn(output_size, 1)\n",
    "    \n",
    "    # Perform forward propagation\n",
    "    def forward(self, X):\n",
    "        #dot product of weights1 and inputs plus the bias and then the sigmoid activation\n",
    "        hidden_layer = self.sigmoid(np.dot(self.weights1, X) + self.bias1)\n",
    "        \n",
    "        #dot product of weights2 and hidden layer output plus the bias and then the sigmoid activation\n",
    "        output_layer = self.sigmoid(np.dot(self.weights2, hidden_layer) + self.bias2)\n",
    "        return output_layer\n",
    "    \n",
    "    def backward(self, X, y, output, hidden_layer, learning_rate):\n",
    "        # Perform backpropagation\n",
    "        error = output - y #error calculation\n",
    "        gradient_output = self.sigmoid_derivative(output) * error\n",
    "        gradient_hidden = self.sigmoid_derivative(hidden_layer) * np.dot(self.weights2.T, gradient_output)\n",
    "        \n",
    "        # Update the weights and biases using the gradients\n",
    "        self.weights2 -= learning_rate * np.dot(gradient_output, hidden_layer.T)\n",
    "        self.bias2 -= learning_rate * np.sum(gradient_output, axis=1, keepdims=True)\n",
    "        self.weights1 -= learning_rate * np.dot(gradient_hidden, X.T)\n",
    "        self.bias1 -= learning_rate * np.sum(gradient_hidden, axis=1, keepdims=True)\n",
    "        \n",
    "    def train(self, X, y, num_iterations, learning_rate):\n",
    "        for i in range(num_iterations):\n",
    "            output = self.forward(X)\n",
    "            self.backward(X, y, output, self.sigmoid(np.dot(self.weights1, X) + self.bias1), learning_rate)\n",
    "    \n",
    "    def predict(self, X):\n",
    "        output = self.forward(X)\n",
    "        predictions = np.round(output)\n",
    "        return predictions\n",
    "        \n",
    "    def sigmoid(self, x):\n",
    "        return 1 / (1 + np.exp(-x))\n",
    "    \n",
    "    def sigmoid_derivative(self, x):\n",
    "        return x * (1 - x)"
   ]
  },
  {
   "cell_type": "code",
   "execution_count": 15,
   "id": "0e95186b",
   "metadata": {},
   "outputs": [],
   "source": [
    "# Example usage\n",
    "input_data = np.array([[0, 0], [0, 1], [1, 0], [1, 1]]).T\n",
    "labels = np.array([[0, 0, 0, 1]])\n",
    "\n",
    "# Train the neural network\n",
    "num_iterations = 10000\n",
    "learning_rate = 0.1\n",
    "nn = NeuralNetwork(2, 100, 1)\n",
    "nn.train(input_data, labels, num_iterations, learning_rate)"
   ]
  },
  {
   "cell_type": "code",
   "execution_count": 16,
   "id": "c82aa6ec",
   "metadata": {},
   "outputs": [
    {
     "name": "stdout",
     "output_type": "stream",
     "text": [
      "[[0. 0. 0. 1.]]\n"
     ]
    }
   ],
   "source": [
    "# Make predictions on new data\n",
    "new_data = np.array([[0, 0], [0, 1], [1, 0], [1, 1]]).T\n",
    "predictions = nn.predict(new_data)\n",
    "\n",
    "# Print the predictions\n",
    "print(predictions)\n"
   ]
  },
  {
   "cell_type": "code",
   "execution_count": null,
   "id": "35eeccb8",
   "metadata": {},
   "outputs": [],
   "source": []
  },
  {
   "cell_type": "code",
   "execution_count": null,
   "id": "66b5c0c3",
   "metadata": {},
   "outputs": [],
   "source": []
  },
  {
   "cell_type": "code",
   "execution_count": null,
   "id": "58010b20",
   "metadata": {},
   "outputs": [],
   "source": []
  },
  {
   "cell_type": "code",
   "execution_count": null,
   "id": "658c78dd",
   "metadata": {},
   "outputs": [],
   "source": []
  },
  {
   "cell_type": "code",
   "execution_count": null,
   "id": "84243737",
   "metadata": {},
   "outputs": [],
   "source": []
  },
  {
   "cell_type": "code",
   "execution_count": 21,
   "id": "64ad5b99",
   "metadata": {},
   "outputs": [],
   "source": [
    "import numpy as np"
   ]
  },
  {
   "cell_type": "code",
   "execution_count": 23,
   "id": "f94cd7c8",
   "metadata": {},
   "outputs": [],
   "source": [
    "class FNN:\n",
    "    \n",
    "    def __init__(self, input_size, hidden_size, output_size):\n",
    "        \n",
    "        self.input_size = input_size\n",
    "        self.hidden_size = hidden_size\n",
    "        self.output_size = output_size\n",
    "        \n",
    "        #Weights and Biases\n",
    "        self.weights1 = np.random.randn(hidden_size, input_size)\n",
    "        self.bias1 = np.random.randn(hidden_size, 1)\n",
    "        \n",
    "        self.weights2 = np.random.randn(output_size, hidden_size)\n",
    "        self.bias2 = np.random.randn(output_size, 1)\n",
    "        \n",
    "    def forward(self, X):\n",
    "        hidden_layer = self.sigmoid(np.dot(self.weights1, X)+self.bias1)\n",
    "        \n",
    "        output_layer = self.sigmoid(np.dot(self.weights2, hidden_layer) + self.bias2)\n",
    "        \n",
    "    def backward(self, X , y, output, hidden_layer, learning_rate):\n",
    "        \n",
    "        error = output - y\n",
    "        gradient_output = self.sigmoid_derivative(output) * error\n",
    "        gradient_hidden = self.sigmoid_derivative(hidden_layer) * np.dot(self.weights2.T, gradient_output)\n",
    "        \n",
    "        self.weights2 -= learning_rate * np.dot(gradient_output, hidden_layer.T)\n",
    "        self.bias2 -= learning_rate * np.sum(gradient_output, axis=1, keepdims=True)\n",
    "        self.weights1 -= learning_rate * np.dot(gradient_hidden, X.T)\n",
    "        self.bias1 -= learning_rate * np.sum(gradient_hidden, axis=1, keepdims=True)\n",
    "        \n",
    "    def train(self, X, y, num_iterations, learning_rate):\n",
    "        for i in range(num_iterations):\n",
    "            output = self.forward(X)\n",
    "            self.backward(X, y, output, self.sigmoid(np.dot(self.weights1, X) + self.bias1), learning_rate)\n",
    "    \n",
    "    def predict(self, X):\n",
    "        output = self.forward(X)\n",
    "        predictions = np.round(output)\n",
    "        return predictions\n",
    "        \n",
    "    def sigmoid(self, x):\n",
    "        return 1 / (1 + np.exp(-x))\n",
    "    \n",
    "    def sigmoid_derivative(self, x):\n",
    "        return x * (1 - x)"
   ]
  },
  {
   "cell_type": "code",
   "execution_count": 24,
   "id": "9d9daafb",
   "metadata": {},
   "outputs": [],
   "source": [
    "# Example usage\n",
    "input_data = np.array([[0, 0], [0, 1], [1, 0], [1, 1]]).T\n",
    "labels = np.array([[1, 1, 1, 0]])\n",
    "\n",
    "# Train the neural network\n",
    "num_iterations = 100000\n",
    "learning_rate = 0.1\n",
    "nn = NeuralNetwork(2, 100, 1)\n",
    "nn.train(input_data, labels, num_iterations, learning_rate)"
   ]
  },
  {
   "cell_type": "code",
   "execution_count": 25,
   "id": "f93540d9",
   "metadata": {},
   "outputs": [
    {
     "name": "stdout",
     "output_type": "stream",
     "text": [
      "[[1. 1. 1. 0.]]\n"
     ]
    }
   ],
   "source": [
    "# Make predictions on new data\n",
    "new_data = np.array([[0, 0], [0, 1], [1, 0], [1, 1]]).T\n",
    "predictions = nn.predict(new_data)\n",
    "\n",
    "# Print the predictions\n",
    "print(predictions)"
   ]
  },
  {
   "cell_type": "code",
   "execution_count": null,
   "id": "c3a5f0e2",
   "metadata": {},
   "outputs": [],
   "source": [
    " "
   ]
  }
 ],
 "metadata": {
  "kernelspec": {
   "display_name": "Python 3 (ipykernel)",
   "language": "python",
   "name": "python3"
  },
  "language_info": {
   "codemirror_mode": {
    "name": "ipython",
    "version": 3
   },
   "file_extension": ".py",
   "mimetype": "text/x-python",
   "name": "python",
   "nbconvert_exporter": "python",
   "pygments_lexer": "ipython3",
   "version": "3.11.4"
  }
 },
 "nbformat": 4,
 "nbformat_minor": 5
}
